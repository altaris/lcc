{
 "cells": [
  {
   "cell_type": "code",
   "execution_count": null,
   "metadata": {},
   "outputs": [],
   "source": [
    "from pathlib import Path\n",
    "\n",
    "model_name, ds_name = \"resnet18\", \"cifar10\"\n",
    "path = Path(\"out\") / model_name / ds_name"
   ]
  },
  {
   "cell_type": "code",
   "execution_count": null,
   "metadata": {},
   "outputs": [],
   "source": [
    "from glob import glob\n",
    "from regex import match\n",
    "import pandas as pd\n",
    "import numpy as np\n",
    "import json\n",
    "\n",
    "\n",
    "def _is_epoch_analysis(p: str) -> bool:\n",
    "    return Path(p).is_dir() and (match(r\".*/\\d+$\", p) is not None)\n",
    "\n",
    "\n",
    "analysis_paths = list(filter(_is_epoch_analysis, glob(str(path / \"*\"))))\n",
    "dfs = []\n",
    "for p in analysis_paths:\n",
    "    m = match(r\".*/(\\d+)$\", p)\n",
    "    assert m is not None\n",
    "    epoch = int(m.group(1))\n",
    "    with (Path(p) / \"svc\" / \"pairwise_rbf.json\").open(\n",
    "        mode=\"r\", encoding=\"utf-8\"\n",
    "    ) as fp:\n",
    "        doc = json.load(fp)  # Prevents loading numpy arrays\n",
    "    data = [\n",
    "        [epoch, k, np.mean([d[\"score\"] for d in v])] for k, v in doc.items()\n",
    "    ]\n",
    "    df = pd.DataFrame(data, columns=[\"epoch\", \"submodule\", \"mean_score\"])\n",
    "    dfs.append(df)\n",
    "\n",
    "df = pd.concat(dfs, ignore_index=True)\n",
    "df"
   ]
  },
  {
   "cell_type": "code",
   "execution_count": null,
   "metadata": {},
   "outputs": [],
   "source": [
    "metrics = pd.read_csv(\n",
    "    path / \"model\" / \"csv_logs\" / model_name / \"version_0\" / \"metrics.csv\"\n",
    ")\n",
    "metrics.drop(columns=[\"train/loss\"], inplace=True)\n",
    "metrics = metrics.groupby(\"epoch\").tail(1)\n",
    "metrics.reset_index(inplace=True, drop=True)\n",
    "# metrics = metrics[metrics[\"epoch\"].isin(df[\"epoch\"])]\n",
    "best_epoch = metrics[\"val/loss\"].argmin()\n",
    "\n",
    "metrics"
   ]
  },
  {
   "cell_type": "code",
   "execution_count": null,
   "metadata": {},
   "outputs": [],
   "source": [
    "import seaborn as sns\n",
    "\n",
    "e = np.linspace(0, best_epoch, num=5, dtype=int)\n",
    "\n",
    "figure = sns.lineplot(\n",
    "    df[df[\"epoch\"].isin(e)],\n",
    "    x=\"submodule\",\n",
    "    y=\"mean_score\",\n",
    "    hue=\"epoch\",\n",
    "    size=\"epoch\",\n",
    ")\n",
    "figure.set(title=\"Separability scores by epoch\")\n",
    "figure.set_xticklabels(\n",
    "    figure.get_xticklabels(),\n",
    "    rotation=45,\n",
    "    rotation_mode=\"anchor\",\n",
    "    ha=\"right\",\n",
    ")\n",
    "figure.get_figure().savefig(path / \"separability_epoch.png\")"
   ]
  },
  {
   "cell_type": "code",
   "execution_count": null,
   "metadata": {},
   "outputs": [],
   "source": [
    "figure = sns.lineplot(df, x=\"epoch\", y=\"mean_score\", hue=\"submodule\")\n",
    "sns.move_legend(figure, \"upper left\", bbox_to_anchor=(1, 1))\n",
    "figure.axvline(best_epoch, linestyle=\":\", color=\"gray\")\n",
    "figure.set(title=\"Separability scores by submodule\")\n",
    "figure.get_figure().savefig(path / \"separability_submod.png\")"
   ]
  },
  {
   "cell_type": "code",
   "execution_count": null,
   "metadata": {},
   "outputs": [],
   "source": [
    "val_acc = metrics[\"val/acc\"].to_numpy()\n",
    "val_loss = metrics[\"val/loss\"].to_numpy()\n",
    "submodules = df[df[\"epoch\"] == 0][\"submodule\"]\n",
    "data = []\n",
    "for s in submodules:\n",
    "    a = df[df[\"submodule\"] == s][\"mean_score\"].to_numpy()\n",
    "    data.append(\n",
    "        [\n",
    "            s,\n",
    "            np.corrcoef(val_acc, a)[0, 1],\n",
    "            np.corrcoef(val_loss, a)[0, 1],\n",
    "        ],\n",
    "    )\n",
    "correlations = pd.DataFrame(\n",
    "    data,\n",
    "    columns=[\n",
    "        \"submodule\",\n",
    "        \"val/acc\",\n",
    "        \"val/loss\",\n",
    "    ],\n",
    ")\n",
    "correlations"
   ]
  },
  {
   "cell_type": "code",
   "execution_count": null,
   "metadata": {},
   "outputs": [],
   "source": [
    "mcorr = correlations.melt(\n",
    "    id_vars=[\"submodule\"],\n",
    "    var_name=\"sep. vs.\",\n",
    "    value_name=\"corr.\",\n",
    ")\n",
    "grid = sns.FacetGrid(mcorr, col=\"sep. vs.\")\n",
    "grid.map(sns.barplot, \"submodule\", \"corr.\")\n",
    "for ax in grid.axes_dict.values():\n",
    "    ax.set_xticklabels(\n",
    "        ax.get_xticklabels(),\n",
    "        rotation=45,\n",
    "        rotation_mode=\"anchor\",\n",
    "        ha=\"right\",\n",
    "    )\n",
    "    ax.set_ylim(-1, 1)\n",
    "grid.fig.savefig(path / \"correlations.png\")"
   ]
  },
  {
   "cell_type": "code",
   "execution_count": null,
   "metadata": {},
   "outputs": [],
   "source": [
    "import bokeh.plotting as bk\n",
    "import bokeh.io\n",
    "\n",
    "bokeh.io.output_notebook()"
   ]
  },
  {
   "cell_type": "code",
   "execution_count": null,
   "metadata": {},
   "outputs": [],
   "source": [
    "import turbo_broccoli as tb\n",
    "\n",
    "data = {}\n",
    "for p in analysis_paths:\n",
    "    m = match(r\".*/(\\d+)$\", p)\n",
    "    assert m is not None\n",
    "    epoch = int(m.group(1))\n",
    "    if epoch > best_epoch:\n",
    "        continue\n",
    "    doc = tb.load_json(Path(p) / \"umap\" / \"plots.json\")\n",
    "    plots = list(doc.values())\n",
    "    for p in plots:\n",
    "        p.height, p.width = 200, 200\n",
    "        p.grid.visible, p.axis.visible = False, False\n",
    "        # p.title = f\"[{epoch}/{best_epoch}] {p.title.text}\"\n",
    "    data[epoch] = plots\n",
    "\n",
    "figures = [data[i] for i in range(best_epoch)]\n",
    "plot = bk.gridplot(figures)\n",
    "bk.show(plot)"
   ]
  },
  {
   "cell_type": "code",
   "execution_count": null,
   "metadata": {},
   "outputs": [],
   "source": [
    "from bokeh.io import export_png\n",
    "\n",
    "export_png(plot, filename=path / \"umap_all.png\")"
   ]
  },
  {
   "cell_type": "raw",
   "metadata": {},
   "source": [
    "import turbo_broccoli as tb\n",
    "\n",
    "data = {}\n",
    "for p in analysis_paths:\n",
    "    m = match(r\".*/(\\d+)$\", p)\n",
    "    assert m is not None\n",
    "    epoch = int(m.group(1))\n",
    "    if epoch > best_epoch:\n",
    "        continue\n",
    "    doc = tb.load_json(Path(p) / \"phate\" / \"plots.json\")\n",
    "    plots = list(doc.values())\n",
    "    for p in plots:\n",
    "        p.height, p.width = 200, 200\n",
    "        p.grid.visible, p.axis.visible = False, False\n",
    "        # p.title = f\"[{epoch}/{best_epoch}] {p.title.text}\"\n",
    "    data[epoch] = plots\n",
    "\n",
    "figures = [data[i] for i in range(best_epoch)]\n",
    "plot = bk.gridplot(figures)\n",
    "bk.show(plot)"
   ]
  },
  {
   "cell_type": "raw",
   "metadata": {},
   "source": [
    "from bokeh.io import export_png\n",
    "\n",
    "export_png(plot, filename=path / \"phate_all.png\")"
   ]
  },
  {
   "cell_type": "code",
   "execution_count": null,
   "metadata": {},
   "outputs": [],
   "source": [
    "from glob import glob\n",
    "from regex import match\n",
    "import numpy as np\n",
    "import turbo_broccoli as tb\n",
    "\n",
    "\n",
    "def _is_epoch_analysis(p: str) -> bool:\n",
    "    return Path(p).is_dir() and (match(r\".*/\\d+$\", p) is not None)\n",
    "\n",
    "\n",
    "evaluations = {}\n",
    "analysis_paths = list(filter(_is_epoch_analysis, glob(str(path / \"*\"))))\n",
    "for p in analysis_paths:\n",
    "    m = match(r\".*/(\\d+)$\", p)\n",
    "    assert m is not None\n",
    "    epoch = int(m.group(1))\n",
    "    evaluations[epoch] = tb.load_json(Path(p) / \"eval\" / \"eval.json\")\n",
    "n_epochs = len(evaluations)"
   ]
  },
  {
   "cell_type": "code",
   "execution_count": null,
   "metadata": {},
   "outputs": [],
   "source": [
    "from nlnas import TorchvisionDataset\n",
    "from nlnas.utils import get_first_n\n",
    "\n",
    "ds = TorchvisionDataset(ds_name)\n",
    "ds.setup(\"fit\")\n",
    "_, y = get_first_n(ds.train_dataloader(), 5000)"
   ]
  },
  {
   "cell_type": "code",
   "execution_count": null,
   "metadata": {},
   "outputs": [],
   "source": [
    "import pandas as pd\n",
    "from nlnas.separability import gdv\n",
    "from tqdm import tqdm\n",
    "\n",
    "data = []\n",
    "progress = tqdm(range(n_epochs), leave=False)\n",
    "for e in progress:\n",
    "    for k, x in evaluations[e].items():\n",
    "        progress.set_postfix({\"epoch\": e, \"submodule\": k})\n",
    "        v = gdv(x, y)\n",
    "        data.append([e, k, float(v)])\n",
    "df = pd.DataFrame(data, columns=[\"epoch\", \"submodule\", \"gdv\"])\n",
    "df.to_csv(path / \"gdv.csv\")\n",
    "df"
   ]
  },
  {
   "cell_type": "code",
   "execution_count": null,
   "metadata": {},
   "outputs": [],
   "source": [
    "import seaborn as sns\n",
    "\n",
    "e = np.linspace(0, best_epoch, num=5, dtype=int)\n",
    "\n",
    "figure = sns.lineplot(\n",
    "    df[df[\"epoch\"].isin(e)],\n",
    "    x=\"submodule\",\n",
    "    y=\"gdv\",\n",
    "    hue=\"epoch\",\n",
    "    size=\"epoch\",\n",
    ")\n",
    "figure.set(title=\"GDV by epoch\")\n",
    "figure.set_xticklabels(\n",
    "    figure.get_xticklabels(),\n",
    "    rotation=45,\n",
    "    rotation_mode=\"anchor\",\n",
    "    ha=\"right\",\n",
    ")\n",
    "figure.get_figure().savefig(path / \"gdv_epoch.png\")"
   ]
  },
  {
   "cell_type": "code",
   "execution_count": null,
   "metadata": {},
   "outputs": [],
   "source": [
    "figure = sns.lineplot(df, x=\"epoch\", y=\"gdv\", hue=\"submodule\")\n",
    "sns.move_legend(figure, \"upper left\", bbox_to_anchor=(1, 1))\n",
    "figure.axvline(best_epoch, linestyle=\":\", color=\"gray\")\n",
    "figure.set(title=\"GDV by submodule\")\n",
    "figure.get_figure().savefig(path / \"gdv_submod.png\")"
   ]
  },
  {
   "cell_type": "code",
   "execution_count": null,
   "metadata": {},
   "outputs": [],
   "source": [
    "import pandas as pd\n",
    "from nlnas.separability import label_variation\n",
    "from tqdm import tqdm\n",
    "\n",
    "data = []\n",
    "progress = tqdm(range(n_epochs), leave=False)\n",
    "for e in progress:\n",
    "    for k, x in evaluations[e].items():\n",
    "        progress.set_postfix({\"epoch\": e, \"submodule\": k})\n",
    "        v = label_variation(x, y, k=10)\n",
    "        data.append([e, k, float(v)])\n",
    "df = pd.DataFrame(data, columns=[\"epoch\", \"submodule\", \"lv\"])\n",
    "df.to_csv(path / \"lv.csv\")\n",
    "df"
   ]
  },
  {
   "cell_type": "code",
   "execution_count": null,
   "metadata": {},
   "outputs": [],
   "source": [
    "import seaborn as sns\n",
    "\n",
    "e = np.linspace(0, best_epoch, num=5, dtype=int)\n",
    "\n",
    "figure = sns.lineplot(\n",
    "    df[df[\"epoch\"].isin(e)],\n",
    "    x=\"submodule\",\n",
    "    y=\"lv\",\n",
    "    hue=\"epoch\",\n",
    "    size=\"epoch\",\n",
    ")\n",
    "figure.set(title=\"Label variation by epoch\")\n",
    "figure.set_xticklabels(\n",
    "    figure.get_xticklabels(),\n",
    "    rotation=45,\n",
    "    rotation_mode=\"anchor\",\n",
    "    ha=\"right\",\n",
    ")\n",
    "figure.get_figure().savefig(path / \"lv_epoch.png\")"
   ]
  },
  {
   "cell_type": "code",
   "execution_count": null,
   "metadata": {},
   "outputs": [],
   "source": [
    "figure = sns.lineplot(df, x=\"epoch\", y=\"lv\", hue=\"submodule\")\n",
    "sns.move_legend(figure, \"upper left\", bbox_to_anchor=(1, 1))\n",
    "figure.axvline(best_epoch, linestyle=\":\", color=\"gray\")\n",
    "figure.set(title=\"Label variation by submodule\")\n",
    "figure.get_figure().savefig(path / \"lv_submod.png\")"
   ]
  },
  {
   "cell_type": "code",
   "execution_count": null,
   "metadata": {},
   "outputs": [],
   "source": []
  }
 ],
 "metadata": {
  "kernelspec": {
   "display_name": "Python 3",
   "language": "python",
   "name": "python3"
  },
  "language_info": {
   "codemirror_mode": {
    "name": "ipython",
    "version": 3
   },
   "file_extension": ".py",
   "mimetype": "text/x-python",
   "name": "python",
   "nbconvert_exporter": "python",
   "pygments_lexer": "ipython3",
   "version": "3.10.12"
  },
  "orig_nbformat": 4
 },
 "nbformat": 4,
 "nbformat_minor": 2
}
